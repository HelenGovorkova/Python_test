{
 "cells": [
  {
   "cell_type": "code",
   "execution_count": null,
   "metadata": {},
   "outputs": [],
   "source": [
    "n = int(input())\n",
    "m = sorted(map(int, input().split()))\n",
    "m_ = [-1*i for i in m]\n",
    "weights = m + m_"
   ]
  },
  {
   "cell_type": "code",
   "execution_count": null,
   "metadata": {},
   "outputs": [],
   "source": [
    "\n",
    "dp[0][0] = True\n",
    "for i in range(1, len(m)+1):\n",
    "    for j in range(0, len(n) + 1):\n",
    "        dp[i][j] = dp[i - 1][j]\n",
    "        if a[i] <= j and dp[i - 1][j - a[i]]:\n",
    "            dp[i][j] = True"
   ]
  }
 ],
 "metadata": {
  "language_info": {
   "name": "python"
  },
  "orig_nbformat": 4
 },
 "nbformat": 4,
 "nbformat_minor": 2
}
